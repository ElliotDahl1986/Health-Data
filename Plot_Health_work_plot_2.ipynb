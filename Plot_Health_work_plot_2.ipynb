{
 "cells": [
  {
   "cell_type": "code",
   "execution_count": 23,
   "metadata": {
    "collapsed": true
   },
   "outputs": [],
   "source": [
    "import pandas as pd\n",
    "import json\n",
    "import plotly.plotly as py\n",
    "import plotly.graph_objs as go\n",
    "import numpy as np"
   ]
  },
  {
   "cell_type": "code",
   "execution_count": 24,
   "metadata": {
    "collapsed": true
   },
   "outputs": [],
   "source": [
    "df_health_1 = pd.read_excel('2017CountyHealthRankingsData.xls',sheetname='Outcomes & Factors Rankings',skiprows=1)"
   ]
  },
  {
   "cell_type": "code",
   "execution_count": 25,
   "metadata": {
    "collapsed": true
   },
   "outputs": [],
   "source": [
    "df_health = df_health_1[df_health_1['Rank']!='NR'];"
   ]
  },
  {
   "cell_type": "code",
   "execution_count": 26,
   "metadata": {
    "collapsed": true
   },
   "outputs": [],
   "source": [
    "with open('USA_Counties_Small.geojson',encoding = \"ISO-8859-1\") as f:\n",
    "    counties = json.load(f)"
   ]
  },
  {
   "cell_type": "code",
   "execution_count": 27,
   "metadata": {
    "scrolled": true
   },
   "outputs": [
    {
     "name": "stdout",
     "output_type": "stream",
     "text": [
      "Hoonah-Angoon   02105\n",
      "Prince of Wales-Hyder   02198\n",
      "Hinsdale   08053\n",
      "Jackson   08057\n",
      "San Juan   08111\n",
      "Wade Hampton   02270\n",
      "Golden Valley   30037\n",
      "Thomas   31171\n",
      "Wheeler   31183\n",
      "Liberty   30051\n",
      "Petroleum   30069\n",
      "Blaine   31009\n",
      "Hayes   31085\n",
      "McPherson   31117\n",
      "Billings   38007\n",
      "Roberts   48393\n",
      "Kent   48263\n",
      "Arecibo   72013\n",
      "Piute   49031\n",
      "Petersburg   02195\n",
      "Skagway   02230\n",
      "Alpine   06003\n",
      "Barranquitas   72019\n",
      "Caguas   72025\n",
      "Carolina   72031\n",
      "Comerío   72045\n",
      "Florida   72054\n",
      "Guaynabo   72061\n",
      "Humacao   72069\n",
      "Las Marías   72083\n",
      "Maricao   72093\n",
      "Naranjito   72105\n",
      "Quebradillas   72115\n",
      "San Lorenzo   72129\n",
      "Toa Alta   72135\n",
      "Vega Baja   72145\n",
      "Cheyenne   08017\n",
      "Aleutians East   02013\n",
      "Kiowa   08061\n",
      "Wrangell   02275\n",
      "Camas   16025\n",
      "Clark   16033\n",
      "McCone   30055\n",
      "Logan   38047\n",
      "Sterling   48431\n",
      "Wibaux   30109\n",
      "Banner   31007\n",
      "Grant   31075\n",
      "Harding   35021\n",
      "Loup   31115\n",
      "Daggett   49009\n",
      "Borden   48033\n",
      "Harding   46063\n",
      "Hyde   46069\n",
      "Jones   46075\n",
      "Stanton   20187\n",
      "Loving   48301\n",
      "Garfield   53023\n",
      "Camuy   72027\n",
      "Cayey   72035\n",
      "Cidra   72041\n",
      "Coamo   72043\n",
      "Fajardo   72053\n",
      "Guánica   72055\n",
      "Guayanilla   72059\n",
      "Hormigueros   72067\n",
      "Jayuya   72073\n",
      "Aguadilla   72005\n",
      "Lajas   72079\n",
      "Lares   72081\n",
      "Luquillo   72089\n",
      "Maunabo   72095\n",
      "Morovis   72101\n",
      "Naguabo   72103\n",
      "Patillas   72109\n",
      "Rincón   72117\n",
      "Río Grande   72119\n",
      "San Germán   72125\n",
      "San Sebastián   72131\n",
      "Toa Baja   72137\n",
      "Vega Alta   72143\n",
      "Juana Díaz   72075\n",
      "Slope   38087\n",
      "Vieques   72147\n",
      "Yabucoa   72151\n",
      "Yauco   72153\n",
      "Villalba   72149\n",
      "Mineral   08079\n",
      "Sully   46119\n",
      "Kalawao   15005\n",
      "Arthur   31005\n",
      "Garden   31069\n",
      "Glasscock   48173\n",
      "King   48269\n",
      "Bedford   51515\n",
      "Bristol Bay   02060\n",
      "Barceloneta   72017\n",
      "Bayamón   72021\n",
      "Canóvanas   72029\n",
      "Ciales   72039\n",
      "Dorado   72051\n",
      "Gurabo   72063\n",
      "Juncos   72077\n",
      "Las Piedras   72085\n",
      "Moca   72099\n",
      "Peñuelas   72111\n",
      "Salinas   72123\n",
      "Trujillo Alto   72139\n",
      "Motley   48345\n",
      "Adjuntas   72001\n",
      "Aguas Buenas   72007\n",
      "Añasco   72011\n",
      "Sioux   31165\n",
      "Prairie   30079\n",
      "Treasure   30103\n",
      "Terrell   48443\n",
      "Deuel   31049\n",
      "Campbell   46021\n",
      "Carter   30011\n",
      "Garfield   30033\n",
      "Hooker   31091\n",
      "Keya Paha   31103\n",
      "Yakutat   02282\n",
      "McMullen   48311\n",
      "Cabo Rojo   72023\n",
      "Cataño   72033\n",
      "Ceiba   72037\n",
      "Corozal   72047\n",
      "Culebra   72049\n",
      "Guayama   72057\n",
      "Hatillo   72065\n",
      "Loíza   72087\n",
      "Manatí   72091\n",
      "Mayagüez   72097\n",
      "Orocovis   72107\n",
      "Ponce   72113\n",
      "Sabana Grande   72121\n",
      "San Juan   72127\n",
      "Santa Isabel   72133\n",
      "Utuado   72141\n",
      "Kenedy   48261\n",
      "Isabela   72071\n",
      "Aguada   72003\n",
      "Aibonito   72009\n",
      "Arroyo   72015\n",
      "Logan   31113\n",
      "Jerauld   46073\n",
      "Sheridan   38083\n",
      "Wallace   20199\n",
      "Hodgeman   20083\n"
     ]
    }
   ],
   "source": [
    "geo_dict = {}\n",
    "\n",
    "for x in range(len(counties['features'])):\n",
    "    FIPS = int(counties['features'][x]['properties']['GEO_ID'][-5:])\n",
    "    if FIPS in df_health['FIPS'].values:\n",
    "        geo_dict[FIPS] = counties['features'][x]\n",
    "    else:\n",
    "        print(counties['features'][x]['properties']['NAME'], ' ',counties['features'][x]['properties']['GEO_ID'][-5:] )\n",
    "    "
   ]
  },
  {
   "cell_type": "code",
   "execution_count": 28,
   "metadata": {
    "collapsed": true
   },
   "outputs": [],
   "source": [
    "ser = pd.Series(list(geo_dict.values()), index = geo_dict.keys())\n",
    "ser.name = 'coordinates'"
   ]
  },
  {
   "cell_type": "code",
   "execution_count": 29,
   "metadata": {
    "collapsed": true
   },
   "outputs": [],
   "source": [
    "df_health = df_health.join(ser, on='FIPS')"
   ]
  },
  {
   "cell_type": "code",
   "execution_count": 30,
   "metadata": {},
   "outputs": [
    {
     "name": "stdout",
     "output_type": "stream",
     "text": [
      "<class 'pandas.core.frame.DataFrame'>\n",
      "Int64Index: 362 entries, 180 to 2770\n",
      "Data columns (total 9 columns):\n",
      "FIPS                    362 non-null int64\n",
      "State                   362 non-null object\n",
      "County                  362 non-null object\n",
      "# of Ranked Counties    362 non-null int64\n",
      "Rank                    362 non-null object\n",
      "Quartile                362 non-null object\n",
      "Rank.1                  362 non-null object\n",
      "Quartile.1              362 non-null object\n",
      "coordinates             362 non-null object\n",
      "dtypes: int64(2), object(7)\n",
      "memory usage: 28.3+ KB\n"
     ]
    }
   ],
   "source": [
    "df_health_state = df_health[(df_health['State']=='Texas') |\n",
    "                           (df_health['State']=='California') |\n",
    "                           (df_health['State']=='New York')]\n",
    "df_health_state.info()"
   ]
  },
  {
   "cell_type": "code",
   "execution_count": 31,
   "metadata": {
    "collapsed": true
   },
   "outputs": [],
   "source": [
    "colors = ['#ffffe0','#fffddb','#fffad7','#fff7d1','#fff5cd','#fff2c8',\n",
    "          '#fff0c4','#ffedbf','#ffebba','#ffe9b7','#ffe5b2','#ffe3af',\n",
    "          '#ffe0ab','#ffdda7','#ffdba4','#ffd9a0','#ffd69c','#ffd399',\n",
    "          '#ffd196','#ffcd93','#ffca90','#ffc88d','#ffc58a','#ffc288',\n",
    "          '#ffbf86','#ffbd83','#ffb981','#ffb67f','#ffb47d','#ffb17b',\n",
    "          '#ffad79','#ffaa77','#ffa775','#ffa474','#ffa172','#ff9e70',\n",
    "          '#ff9b6f','#ff986e','#ff956c','#fe916b','#fe8f6a','#fd8b69',\n",
    "          '#fc8868','#fb8567','#fa8266','#f98065','#f87d64','#f77a63',\n",
    "          '#f67862','#f57562','#f37261','#f37060','#f16c5f','#f0695e',\n",
    "          '#ee665d','#ed645c','#ec615b','#ea5e5b','#e85b59','#e75859',\n",
    "          '#e55658','#e45356','#e35056','#e14d54','#df4a53','#dd4852',\n",
    "          '#db4551','#d9434f','#d8404e','#d53d4d','#d43b4b','#d2384a',\n",
    "          '#cf3548','#cd3346','#cc3045','#ca2e43','#c72b42','#c52940',\n",
    "          '#c2263d','#c0233c','#be213a','#bb1e37','#ba1c35','#b71933',\n",
    "          '#b41731','#b2152e','#b0122c','#ac1029','#aa0e27','#a70b24',\n",
    "          '#a40921','#a2071f','#a0051c','#9d0419','#990215','#970212',\n",
    "          '#94010e','#91000a','#8e0006','#8b0000', '#8b0000']\n",
    "\n",
    "scl = dict(zip(range(0, 101), colors))"
   ]
  },
  {
   "cell_type": "code",
   "execution_count": 32,
   "metadata": {},
   "outputs": [
    {
     "name": "stdout",
     "output_type": "stream",
     "text": [
      "243\n",
      "1\n"
     ]
    }
   ],
   "source": [
    "print(df_health_state['Rank'].max())\n",
    "print(df_health_state['Rank'].min())"
   ]
  },
  {
   "cell_type": "code",
   "execution_count": 33,
   "metadata": {
    "collapsed": true
   },
   "outputs": [],
   "source": [
    "def get_scl(obj):\n",
    "    frac = int((obj/243)*100)\n",
    "    return scl[frac]"
   ]
  },
  {
   "cell_type": "code",
   "execution_count": 34,
   "metadata": {},
   "outputs": [
    {
     "name": "stderr",
     "output_type": "stream",
     "text": [
      "/Users/elliotdahl/anaconda3/lib/python3.6/site-packages/ipykernel_launcher.py:1: SettingWithCopyWarning:\n",
      "\n",
      "\n",
      "A value is trying to be set on a copy of a slice from a DataFrame.\n",
      "Try using .loc[row_indexer,col_indexer] = value instead\n",
      "\n",
      "See the caveats in the documentation: http://pandas.pydata.org/pandas-docs/stable/indexing.html#indexing-view-versus-copy\n",
      "\n"
     ]
    }
   ],
   "source": [
    "df_health_state['color'] = df_health_state['Rank'].apply(get_scl)"
   ]
  },
  {
   "cell_type": "code",
   "execution_count": 35,
   "metadata": {
    "scrolled": true
   },
   "outputs": [
    {
     "data": {
      "text/html": [
       "<div>\n",
       "<style>\n",
       "    .dataframe thead tr:only-child th {\n",
       "        text-align: right;\n",
       "    }\n",
       "\n",
       "    .dataframe thead th {\n",
       "        text-align: left;\n",
       "    }\n",
       "\n",
       "    .dataframe tbody tr th {\n",
       "        vertical-align: top;\n",
       "    }\n",
       "</style>\n",
       "<table border=\"1\" class=\"dataframe\">\n",
       "  <thead>\n",
       "    <tr style=\"text-align: right;\">\n",
       "      <th></th>\n",
       "      <th>FIPS</th>\n",
       "      <th>State</th>\n",
       "      <th>County</th>\n",
       "      <th># of Ranked Counties</th>\n",
       "      <th>Rank</th>\n",
       "      <th>Quartile</th>\n",
       "      <th>Rank.1</th>\n",
       "      <th>Quartile.1</th>\n",
       "      <th>coordinates</th>\n",
       "      <th>color</th>\n",
       "    </tr>\n",
       "  </thead>\n",
       "  <tbody>\n",
       "    <tr>\n",
       "      <th>180</th>\n",
       "      <td>6001</td>\n",
       "      <td>California</td>\n",
       "      <td>Alameda</td>\n",
       "      <td>57</td>\n",
       "      <td>8</td>\n",
       "      <td>1</td>\n",
       "      <td>6</td>\n",
       "      <td>1</td>\n",
       "      <td>{'type': 'Feature', 'properties': {'GEO_ID': '...</td>\n",
       "      <td>#fff7d1</td>\n",
       "    </tr>\n",
       "    <tr>\n",
       "      <th>182</th>\n",
       "      <td>6005</td>\n",
       "      <td>California</td>\n",
       "      <td>Amador</td>\n",
       "      <td>57</td>\n",
       "      <td>23</td>\n",
       "      <td>2</td>\n",
       "      <td>19</td>\n",
       "      <td>2</td>\n",
       "      <td>{'type': 'Feature', 'properties': {'GEO_ID': '...</td>\n",
       "      <td>#ffe9b7</td>\n",
       "    </tr>\n",
       "    <tr>\n",
       "      <th>183</th>\n",
       "      <td>6007</td>\n",
       "      <td>California</td>\n",
       "      <td>Butte</td>\n",
       "      <td>57</td>\n",
       "      <td>36</td>\n",
       "      <td>3</td>\n",
       "      <td>37</td>\n",
       "      <td>3</td>\n",
       "      <td>{'type': 'Feature', 'properties': {'GEO_ID': '...</td>\n",
       "      <td>#ffdba4</td>\n",
       "    </tr>\n",
       "    <tr>\n",
       "      <th>184</th>\n",
       "      <td>6009</td>\n",
       "      <td>California</td>\n",
       "      <td>Calaveras</td>\n",
       "      <td>57</td>\n",
       "      <td>24</td>\n",
       "      <td>2</td>\n",
       "      <td>22</td>\n",
       "      <td>2</td>\n",
       "      <td>{'type': 'Feature', 'properties': {'GEO_ID': '...</td>\n",
       "      <td>#ffe9b7</td>\n",
       "    </tr>\n",
       "    <tr>\n",
       "      <th>185</th>\n",
       "      <td>6011</td>\n",
       "      <td>California</td>\n",
       "      <td>Colusa</td>\n",
       "      <td>57</td>\n",
       "      <td>26</td>\n",
       "      <td>2</td>\n",
       "      <td>35</td>\n",
       "      <td>3</td>\n",
       "      <td>{'type': 'Feature', 'properties': {'GEO_ID': '...</td>\n",
       "      <td>#ffe5b2</td>\n",
       "    </tr>\n",
       "  </tbody>\n",
       "</table>\n",
       "</div>"
      ],
      "text/plain": [
       "     FIPS       State     County  # of Ranked Counties Rank Quartile Rank.1  \\\n",
       "180  6001  California    Alameda                    57    8        1      6   \n",
       "182  6005  California     Amador                    57   23        2     19   \n",
       "183  6007  California      Butte                    57   36        3     37   \n",
       "184  6009  California  Calaveras                    57   24        2     22   \n",
       "185  6011  California     Colusa                    57   26        2     35   \n",
       "\n",
       "    Quartile.1                                        coordinates    color  \n",
       "180          1  {'type': 'Feature', 'properties': {'GEO_ID': '...  #fff7d1  \n",
       "182          2  {'type': 'Feature', 'properties': {'GEO_ID': '...  #ffe9b7  \n",
       "183          3  {'type': 'Feature', 'properties': {'GEO_ID': '...  #ffdba4  \n",
       "184          2  {'type': 'Feature', 'properties': {'GEO_ID': '...  #ffe9b7  \n",
       "185          3  {'type': 'Feature', 'properties': {'GEO_ID': '...  #ffe5b2  "
      ]
     },
     "execution_count": 35,
     "metadata": {},
     "output_type": "execute_result"
    }
   ],
   "source": [
    "df_health_state.head()"
   ]
  },
  {
   "cell_type": "code",
   "execution_count": 36,
   "metadata": {},
   "outputs": [
    {
     "data": {
      "text/html": [
       "<div>\n",
       "<style>\n",
       "    .dataframe thead tr:only-child th {\n",
       "        text-align: right;\n",
       "    }\n",
       "\n",
       "    .dataframe thead th {\n",
       "        text-align: left;\n",
       "    }\n",
       "\n",
       "    .dataframe tbody tr th {\n",
       "        vertical-align: top;\n",
       "    }\n",
       "</style>\n",
       "<table border=\"1\" class=\"dataframe\">\n",
       "  <thead>\n",
       "    <tr style=\"text-align: right;\">\n",
       "      <th></th>\n",
       "      <th>FIPS</th>\n",
       "      <th>State</th>\n",
       "      <th>County</th>\n",
       "      <th># of Ranked Counties</th>\n",
       "      <th>Rank</th>\n",
       "      <th>Quartile</th>\n",
       "      <th>Rank.1</th>\n",
       "      <th>Quartile.1</th>\n",
       "      <th>coordinates</th>\n",
       "      <th>color</th>\n",
       "    </tr>\n",
       "  </thead>\n",
       "  <tbody>\n",
       "    <tr>\n",
       "      <th>2766</th>\n",
       "      <td>48499</td>\n",
       "      <td>Texas</td>\n",
       "      <td>Wood</td>\n",
       "      <td>243</td>\n",
       "      <td>122</td>\n",
       "      <td>2</td>\n",
       "      <td>102</td>\n",
       "      <td>2</td>\n",
       "      <td>{'type': 'Feature', 'properties': {'GEO_ID': '...</td>\n",
       "      <td>#f37261</td>\n",
       "    </tr>\n",
       "    <tr>\n",
       "      <th>2767</th>\n",
       "      <td>48501</td>\n",
       "      <td>Texas</td>\n",
       "      <td>Yoakum</td>\n",
       "      <td>243</td>\n",
       "      <td>101</td>\n",
       "      <td>2</td>\n",
       "      <td>68</td>\n",
       "      <td>2</td>\n",
       "      <td>{'type': 'Feature', 'properties': {'GEO_ID': '...</td>\n",
       "      <td>#fd8b69</td>\n",
       "    </tr>\n",
       "    <tr>\n",
       "      <th>2768</th>\n",
       "      <td>48503</td>\n",
       "      <td>Texas</td>\n",
       "      <td>Young</td>\n",
       "      <td>243</td>\n",
       "      <td>106</td>\n",
       "      <td>2</td>\n",
       "      <td>64</td>\n",
       "      <td>2</td>\n",
       "      <td>{'type': 'Feature', 'properties': {'GEO_ID': '...</td>\n",
       "      <td>#fb8567</td>\n",
       "    </tr>\n",
       "    <tr>\n",
       "      <th>2769</th>\n",
       "      <td>48505</td>\n",
       "      <td>Texas</td>\n",
       "      <td>Zapata</td>\n",
       "      <td>243</td>\n",
       "      <td>215</td>\n",
       "      <td>4</td>\n",
       "      <td>237</td>\n",
       "      <td>4</td>\n",
       "      <td>{'type': 'Feature', 'properties': {'GEO_ID': '...</td>\n",
       "      <td>#aa0e27</td>\n",
       "    </tr>\n",
       "    <tr>\n",
       "      <th>2770</th>\n",
       "      <td>48507</td>\n",
       "      <td>Texas</td>\n",
       "      <td>Zavala</td>\n",
       "      <td>243</td>\n",
       "      <td>231</td>\n",
       "      <td>4</td>\n",
       "      <td>240</td>\n",
       "      <td>4</td>\n",
       "      <td>{'type': 'Feature', 'properties': {'GEO_ID': '...</td>\n",
       "      <td>#970212</td>\n",
       "    </tr>\n",
       "  </tbody>\n",
       "</table>\n",
       "</div>"
      ],
      "text/plain": [
       "       FIPS  State  County  # of Ranked Counties Rank Quartile Rank.1  \\\n",
       "2766  48499  Texas    Wood                   243  122        2    102   \n",
       "2767  48501  Texas  Yoakum                   243  101        2     68   \n",
       "2768  48503  Texas   Young                   243  106        2     64   \n",
       "2769  48505  Texas  Zapata                   243  215        4    237   \n",
       "2770  48507  Texas  Zavala                   243  231        4    240   \n",
       "\n",
       "     Quartile.1                                        coordinates    color  \n",
       "2766          2  {'type': 'Feature', 'properties': {'GEO_ID': '...  #f37261  \n",
       "2767          2  {'type': 'Feature', 'properties': {'GEO_ID': '...  #fd8b69  \n",
       "2768          2  {'type': 'Feature', 'properties': {'GEO_ID': '...  #fb8567  \n",
       "2769          4  {'type': 'Feature', 'properties': {'GEO_ID': '...  #aa0e27  \n",
       "2770          4  {'type': 'Feature', 'properties': {'GEO_ID': '...  #970212  "
      ]
     },
     "execution_count": 36,
     "metadata": {},
     "output_type": "execute_result"
    }
   ],
   "source": [
    "df_health_state.tail()"
   ]
  },
  {
   "cell_type": "code",
   "execution_count": 37,
   "metadata": {
    "scrolled": true
   },
   "outputs": [
    {
     "name": "stderr",
     "output_type": "stream",
     "text": [
      "/Users/elliotdahl/anaconda3/lib/python3.6/site-packages/ipykernel_launcher.py:4: DeprecationWarning:\n",
      "\n",
      "\n",
      ".ix is deprecated. Please use\n",
      ".loc for label based indexing or\n",
      ".iloc for positional indexing\n",
      "\n",
      "See the documentation here:\n",
      "http://pandas.pydata.org/pandas-docs/stable/indexing.html#ix-indexer-is-deprecated\n",
      "\n"
     ]
    }
   ],
   "source": [
    "layers_ls = []\n",
    "for x in df_health_state.index:\n",
    "    item_dict = dict(sourcetype = 'geojson',\n",
    "                     source = df_health_state.ix[x]['coordinates'],\n",
    "                     type = 'fill',\n",
    "                     color = df_health_state.ix[x]['color'])\n",
    "    layers_ls.append(item_dict)"
   ]
  },
  {
   "cell_type": "code",
   "execution_count": 38,
   "metadata": {
    "collapsed": true
   },
   "outputs": [],
   "source": [
    "mapbox_access_token = 'pk.eyJ1IjoiZWxsaW90ZGFobCIsImEiOiJjamQwbHppdDQyOGhvMzNxc2JpYm96Mnd1In0.wciraVb3PUNq1ZtR2sxk6A'"
   ]
  },
  {
   "cell_type": "code",
   "execution_count": 39,
   "metadata": {
    "collapsed": true
   },
   "outputs": [],
   "source": [
    "colorscl = [[i * .01, v] for i,v in enumerate(colors)]"
   ]
  },
  {
   "cell_type": "code",
   "execution_count": 40,
   "metadata": {
    "collapsed": true
   },
   "outputs": [],
   "source": [
    "data = go.Data([\n",
    "            go.Scattermapbox(\n",
    "                    lat = [0],\n",
    "                    lon = [0],\n",
    "                    marker = go.Marker(\n",
    "                                  cmax=100,\n",
    "                                  cmin=0,\n",
    "                                  colorscale = colorscl,\n",
    "                                  showscale = True,\n",
    "                                  autocolorscale=False,\n",
    "                                  color=np.arange(0,101),\n",
    "                                  colorbar= go.ColorBar(\n",
    "                                                 len = .89\n",
    "                                                        )\n",
    "                                       ),\n",
    "                    mode = 'markers')\n",
    "                     ])"
   ]
  },
  {
   "cell_type": "code",
   "execution_count": 42,
   "metadata": {
    "collapsed": true
   },
   "outputs": [],
   "source": [
    "layout = go.Layout(\n",
    "    title = 'Health',\n",
    "    height=1050,\n",
    "    width=800,\n",
    "    autosize=True,\n",
    "    hovermode='closest',\n",
    "    mapbox=dict(\n",
    "        layers= layers_ls,\n",
    "        accesstoken=mapbox_access_token,\n",
    "        bearing=0,\n",
    "        center=dict(\n",
    "            lat=38.0000,\n",
    "            lon=-97\n",
    "        ),\n",
    "        pitch=0,\n",
    "        zoom=2.8,\n",
    "        style='light'\n",
    "    ),\n",
    ")"
   ]
  },
  {
   "cell_type": "code",
   "execution_count": 43,
   "metadata": {},
   "outputs": [],
   "source": [
    "py.sign_in('ElliotDahl', 'UaAum32TCEkXhGqcCvTJ')\n",
    "fig = dict(data = data, layout=layout)\n",
    "py.image.save_as(fig, filename='Texas_Cal_NY.jpeg',\n",
    "                 width = 750, height= 575)"
   ]
  },
  {
   "cell_type": "code",
   "execution_count": null,
   "metadata": {
    "collapsed": true
   },
   "outputs": [],
   "source": []
  }
 ],
 "metadata": {
  "kernelspec": {
   "display_name": "Python 3",
   "language": "python",
   "name": "python3"
  },
  "language_info": {
   "codemirror_mode": {
    "name": "ipython",
    "version": 3
   },
   "file_extension": ".py",
   "mimetype": "text/x-python",
   "name": "python",
   "nbconvert_exporter": "python",
   "pygments_lexer": "ipython3",
   "version": "3.6.3"
  }
 },
 "nbformat": 4,
 "nbformat_minor": 2
}
